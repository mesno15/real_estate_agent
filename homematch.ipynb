{
 "cells": [
  {
   "cell_type": "code",
   "execution_count": 3,
   "metadata": {},
   "outputs": [],
   "source": [
    "import chromadb\n",
    "from langchain.chains import RetrievalQA, ConversationChain, RetrievalQAWithSourcesChain, ConversationalRetrievalChain\n",
    "from langchain.chains.question_answering import load_qa_chain\n",
    "from langchain.chat_models import ChatOpenAI\n",
    "from langchain.document_loaders import CSVLoader\n",
    "from langchain.embeddings.openai import OpenAIEmbeddings\n",
    "from langchain.llms import OpenAI\n",
    "from langchain.memory import ConversationSummaryMemory, ConversationBufferMemory, CombinedMemory, ChatMessageHistory\n",
    "from langchain.prompts import PromptTemplate\n",
    "from langchain.schema import AIMessage, HumanMessage, SystemMessage\n",
    "from langchain.text_splitter import CharacterTextSplitter\n",
    "from langchain.vectorstores import Chroma\n",
    "from typing import Any, Dict, Optional, Tuple\n",
    "from langchain.chains.question_answering import load_qa_chain\n",
    "\n",
    "\n",
    "OPENAI_API_KEY=''\n"
   ]
  },
  {
   "cell_type": "markdown",
   "metadata": {},
   "source": [
    "# Generate Listings"
   ]
  },
  {
   "cell_type": "code",
   "execution_count": 10,
   "metadata": {},
   "outputs": [],
   "source": [
    "llm = ChatOpenAI(\n",
    "    openai_api_key=OPENAI_API_KEY, \n",
    "    model_name=\"gpt-3.5-turbo\", \n",
    "    temperature=0\n",
    ")\n",
    "instruction = \"\"\"\n",
    "    You are generating real estate listing data.\n",
    "    An example of a listing:\n",
    "    \n",
    "    Neighborhood: Green Oaks\n",
    "    Price: $800,000\n",
    "    Bedrooms: 3\n",
    "    Bathrooms: 2\n",
    "    House Size: 2,000 sqft\n",
    "\n",
    "    Description: Welcome to this eco-friendly oasis nestled in the \n",
    "    heart of Green Oaks. This charming 3-bedroom, 2-bathroom home \n",
    "    boasts energy-efficient features such as solar panels and a \n",
    "    well-insulated structure. Natural light floods the living \n",
    "    spaces, highlighting the beautiful hardwood floors and \n",
    "    eco-conscious finishes. The open-concept kitchen and dining \n",
    "    area lead to a spacious backyard with a vegetable garden, \n",
    "    perfect for the eco-conscious family. Embrace sustainable \n",
    "    living without compromising on style in this Green Oaks gem.\n",
    "\n",
    "    Neighborhood Description: Green Oaks is a close-knit, \n",
    "    environmentally-conscious community with access to organic \n",
    "    grocery stores, community gardens, and bike paths. \n",
    "    Take a stroll through the nearby Green Oaks Park or grab a cup \n",
    "    of coffee at the cozy Green Bean Cafe. With easy access to \n",
    "    public transportation and bike lanes, commuting is a breeze.\n",
    "\n",
    "        \n",
    "    Task:  \n",
    "        \n",
    "    Generate  23 unique real estate listings, produce descriptions \n",
    "    of various properties. \n",
    "    Write the answer in a csv format, all strings should be double quoted.\n",
    "    Attributes should also be double quouted in the first row.\n",
    "\n",
    "\n",
    "\"\"\"\n",
    "\n",
    "resp = llm.invoke(instruction)\n",
    "with open(\"data_generated.csv\", \"w\") as f:\n",
    "    f.write(resp.content)\n",
    "\n"
   ]
  },
  {
   "cell_type": "markdown",
   "metadata": {},
   "source": [
    "# Helper functions"
   ]
  },
  {
   "cell_type": "code",
   "execution_count": 5,
   "metadata": {},
   "outputs": [],
   "source": [
    "class MementoBufferMemory(ConversationBufferMemory):\n",
    "    def save_context(self, inputs: Dict[str, Any], outputs: Dict[str, str]) -> None:\n",
    "        input_str, output_str = self._get_input_output(inputs, outputs)\n",
    "        self.chat_memory.add_ai_message(output_str)\n",
    "\n",
    "\n",
    "def create_db(file_path, openai_api_key):\n",
    "    loader = CSVLoader(\n",
    "        file_path=file_path,\n",
    "        csv_args={\n",
    "            \"delimiter\": \",\",\n",
    "            \"quotechar\": '\"',\n",
    "            \"fieldnames\": [\n",
    "                \"Neighborhood\", \n",
    "                \"Price\",\n",
    "                \"Bedrooms\",\n",
    "                \"Bathrooms\",\n",
    "                \"House Size\",\n",
    "                \"Description\",\n",
    "                \"Neighborhood Description\"\n",
    "            ],\n",
    "        }\n",
    "    )\n",
    "    data = loader.load()\n",
    "    cts = CharacterTextSplitter(chunk_size=1000, chunk_overlap=0)\n",
    "    split_docs = cts.split_documents(data)\n",
    "    emb = OpenAIEmbeddings(\n",
    "        openai_api_key=openai_api_key\n",
    "    )\n",
    "    db = Chroma.from_documents(split_docs, emb)\n",
    "\n",
    "    return db\n",
    "\n",
    "\n",
    "def get_llm():\n",
    "    model_name = 'gpt-3.5-turbo'\n",
    "    llm = OpenAI(\n",
    "        openai_api_key=OPENAI_API_KEY,\n",
    "        model_name=model_name, \n",
    "        temperature=0, \n",
    "        max_tokens=2000, \n",
    "    )\n",
    "    return llm\n",
    "\n",
    "\n",
    "def get_memory(questions, answers):\n",
    "\n",
    "    history = ChatMessageHistory()\n",
    "    history.add_user_message(\n",
    "        f\"\"\"\n",
    "        You are AI that will enrich the desrciptions for home \n",
    "        listings for a user based on their answers to personal \n",
    "        questions.The augmentation should personalize the listing \n",
    "        without changing factual information. \n",
    "        Ask user {len(questions)} questions\n",
    "        \"\"\"\n",
    "    )\n",
    "    for i in range(len(questions)):\n",
    "        history.add_ai_message(questions[i])\n",
    "        history.add_user_message(answers[i])\n",
    "    conversational_memory = MementoBufferMemory(\n",
    "        chat_memory=history,\n",
    "        memory_key=\"questions_and_answers\"\n",
    "    )\n",
    "    return conversational_memory\n",
    "\n",
    "\n",
    "\n",
    "def get_history(questions, answers):\n",
    "    history = ChatMessageHistory()\n",
    "    history.add_user_message(\n",
    "        f\"\"\"\n",
    "        You are AI that will enrich the desrciptions for home \n",
    "        listings for a user based on their answers to personal \n",
    "        questions.The augmentation should personalize the listing \n",
    "        without changing factual information. \n",
    "        Ask user {len(questions)} questions\n",
    "        \"\"\"\n",
    "    )\n",
    "    for i in range(len(questions)):\n",
    "        history.add_ai_message(questions[i])\n",
    "        history.add_user_message(answers[i])\n",
    "\n",
    "    history_tuples = []\n",
    "    for i in range(0, int(len(history.messages)), 2):\n",
    "        try:\n",
    "            history_tuples.append((history.messages[i].content, history.messages[i+1].content))\n",
    "        except IndexError:\n",
    "            history_tuples.append((history.messages[i].content, \"\"))\n",
    "    #print(history_tuples)\n",
    "    return history_tuples\n",
    "\n",
    "\n",
    "def sim_search(query, db, llm):\n",
    "    similar_docs = db.similarity_search(query, k=3)\n",
    "    print(f\"**Similar documents: **\\n{similar_docs}\")\n",
    "    prompt = PromptTemplate(\n",
    "        template=\"{query}\\nContext: {context}\",\n",
    "        input_variables=[\"query\", \"context\"],\n",
    "    )\n",
    "    chain = load_qa_chain(llm, prompt = prompt, chain_type=\"stuff\")\n",
    "    print(\n",
    "        f\"**Recommendation based on similarity search:** \\n\"\\\n",
    "        f\"{chain.run(input_documents=similar_docs, query = query)}\")\n",
    "    return similar_docs\n",
    "\n",
    "\n",
    "def augment_search(query, db, llm, history):\n",
    "    chain = ConversationalRetrievalChain.from_llm(\n",
    "        llm, \n",
    "        db.as_retriever()\n",
    "    )\n",
    "    response = chain({\"question\": query, \"chat_history\": history})\n",
    "    print(\n",
    "        f\"**Recommendation based on buyer's preferences: **\\n\"\\\n",
    "        f\"{response['answer']}\")\n",
    "\n"
   ]
  },
  {
   "cell_type": "code",
   "execution_count": 11,
   "metadata": {},
   "outputs": [
    {
     "name": "stderr",
     "output_type": "stream",
     "text": [
      "/mnt/c/Users/Z0211481/gitrepos/real_estate_agent/venv/lib/python3.10/site-packages/langchain/llms/openai.py:216: UserWarning: You are trying to use a chat model. This way of initializing it is no longer supported. Instead, please use: `from langchain.chat_models import ChatOpenAI`\n",
      "  warnings.warn(\n",
      "/mnt/c/Users/Z0211481/gitrepos/real_estate_agent/venv/lib/python3.10/site-packages/langchain/llms/openai.py:811: UserWarning: You are trying to use a chat model. This way of initializing it is no longer supported. Instead, please use: `from langchain.chat_models import ChatOpenAI`\n",
      "  warnings.warn(\n"
     ]
    }
   ],
   "source": [
    "file_path = \"./data_generated.csv\"\n",
    "db = create_db(file_path, OPENAI_API_KEY)\n",
    "llm = get_llm()"
   ]
  },
  {
   "cell_type": "markdown",
   "metadata": {},
   "source": [
    "# Similarity search"
   ]
  },
  {
   "cell_type": "code",
   "execution_count": 12,
   "metadata": {},
   "outputs": [
    {
     "name": "stdout",
     "output_type": "stream",
     "text": [
      "**Similar documents: **\n",
      "[Document(page_content='Neighborhood: Mountain Ridge\\nPrice: $800,000\\nBedrooms: 3\\nBathrooms: 2\\nHouse Size: 2,000 sqft\\nDescription: Discover this mountain retreat in Mountain Ridge, a 3-bedroom, 2-bathroom home with panoramic views. The open-concept living area features hardwood floors and a fireplace. The kitchen boasts quartz countertops and stainless steel appliances. Relax on the deck overlooking the mountains. Mountain Ridge offers a peaceful escape with hiking trails and a community pool.\\nNeighborhood Description: Mountain Ridge is a serene neighborhood with hiking trails and a community pool, perfect for outdoor enthusiasts. Residents can enjoy the nearby nature reserve and scenic views of the mountains, as well as the local farmers market and community events.', metadata={'row': 16, 'source': './data_generated.csv'}), Document(page_content='Neighborhood: Mountain View\\nPrice: $950,000\\nBedrooms: 4\\nBathrooms: 3\\nHouse Size: 2,800 sqft\\nDescription: Enjoy mountain views from this 4-bedroom, 3-bathroom home in Mountain View. The spacious living area features vaulted ceilings and a cozy fireplace. The gourmet kitchen boasts granite countertops and a large island. Retreat to the master suite with a private balcony and a luxurious bathroom. Mountain View offers a serene escape with hiking trails and a community pool.\\nNeighborhood Description: Mountain View is a serene neighborhood with hiking trails and a community pool, perfect for outdoor enthusiasts. Residents can enjoy the nearby nature reserve and scenic views of the mountains, as well as the local farmers market and community events.', metadata={'row': 8, 'source': './data_generated.csv'}), Document(page_content='Neighborhood: Mountain Valley\\nPrice: $950,000\\nBedrooms: 4\\nBathrooms: 3\\nHouse Size: 2,800 sqft\\nDescription: Enjoy mountain views from this 4-bedroom, 3-bathroom home in Mountain Valley. The spacious living area features vaulted ceilings and a cozy fireplace. The gourmet kitchen boasts granite countertops and a large island. Retreat to the master suite with a private balcony and a luxurious bathroom. Mountain Valley offers a serene escape with hiking trails and a community pool.\\nNeighborhood Description: Mountain Valley is a serene neighborhood with hiking trails and a community pool, perfect for outdoor enthusiasts. Residents can enjoy the nearby nature reserve and scenic views of the mountains, as well as the local farmers market and community events.', metadata={'row': 22, 'source': './data_generated.csv'})]\n",
      "**Recommendation based on similarity search:** \n",
      "Based on the listings provided, I would recommend the home in Mountain View for $950,000. It offers 4 bedrooms, 3 bathrooms, and a house size of 2,800 sqft with mountain views. The spacious living area with vaulted ceilings and a cozy fireplace, along with the gourmet kitchen and master suite with a private balcony, make it a luxurious mountain retreat. Additionally, the neighborhood of Mountain View offers hiking trails and a community pool, perfect for outdoor enthusiasts like yourself. With an unlimited budget, this home in Mountain View would be a great choice for living near the mountains.\n"
     ]
    },
    {
     "data": {
      "text/plain": [
       "[Document(page_content='Neighborhood: Mountain Ridge\\nPrice: $800,000\\nBedrooms: 3\\nBathrooms: 2\\nHouse Size: 2,000 sqft\\nDescription: Discover this mountain retreat in Mountain Ridge, a 3-bedroom, 2-bathroom home with panoramic views. The open-concept living area features hardwood floors and a fireplace. The kitchen boasts quartz countertops and stainless steel appliances. Relax on the deck overlooking the mountains. Mountain Ridge offers a peaceful escape with hiking trails and a community pool.\\nNeighborhood Description: Mountain Ridge is a serene neighborhood with hiking trails and a community pool, perfect for outdoor enthusiasts. Residents can enjoy the nearby nature reserve and scenic views of the mountains, as well as the local farmers market and community events.', metadata={'row': 16, 'source': './data_generated.csv'}),\n",
       " Document(page_content='Neighborhood: Mountain View\\nPrice: $950,000\\nBedrooms: 4\\nBathrooms: 3\\nHouse Size: 2,800 sqft\\nDescription: Enjoy mountain views from this 4-bedroom, 3-bathroom home in Mountain View. The spacious living area features vaulted ceilings and a cozy fireplace. The gourmet kitchen boasts granite countertops and a large island. Retreat to the master suite with a private balcony and a luxurious bathroom. Mountain View offers a serene escape with hiking trails and a community pool.\\nNeighborhood Description: Mountain View is a serene neighborhood with hiking trails and a community pool, perfect for outdoor enthusiasts. Residents can enjoy the nearby nature reserve and scenic views of the mountains, as well as the local farmers market and community events.', metadata={'row': 8, 'source': './data_generated.csv'}),\n",
       " Document(page_content='Neighborhood: Mountain Valley\\nPrice: $950,000\\nBedrooms: 4\\nBathrooms: 3\\nHouse Size: 2,800 sqft\\nDescription: Enjoy mountain views from this 4-bedroom, 3-bathroom home in Mountain Valley. The spacious living area features vaulted ceilings and a cozy fireplace. The gourmet kitchen boasts granite countertops and a large island. Retreat to the master suite with a private balcony and a luxurious bathroom. Mountain Valley offers a serene escape with hiking trails and a community pool.\\nNeighborhood Description: Mountain Valley is a serene neighborhood with hiking trails and a community pool, perfect for outdoor enthusiasts. Residents can enjoy the nearby nature reserve and scenic views of the mountains, as well as the local farmers market and community events.', metadata={'row': 22, 'source': './data_generated.csv'})]"
      ]
     },
     "execution_count": 12,
     "metadata": {},
     "output_type": "execute_result"
    }
   ],
   "source": [
    "query_for_similarity_search = \"\"\"\n",
    "        Based on the listings in the context recommend me a home if \n",
    "        I want to live near the mountains and I have unlimited budget.\n",
    "        \"\"\"\n",
    "sim_search(query_for_similarity_search, db, llm)"
   ]
  },
  {
   "cell_type": "markdown",
   "metadata": {},
   "source": [
    "# Personalized search"
   ]
  },
  {
   "cell_type": "code",
   "execution_count": 13,
   "metadata": {},
   "outputs": [
    {
     "name": "stdout",
     "output_type": "stream",
     "text": [
      "**Recommendation based on buyer's preferences: **\n",
      "Based on the user's preference for a family-friendly atmosphere with parks and playgrounds nearby, the first home listing in Whispering Pines would be recommended. This home offers 5 bedrooms, 4 bathrooms, and a backyard oasis with a covered patio and vegetable garden, perfect for a family looking for outdoor space. Additionally, the neighborhood of Whispering Pines is described as family-friendly with parks and playgrounds, aligning with the user's preferences.\n"
     ]
    }
   ],
   "source": [
    "personal_questions = [   \n",
    "            \"How big do you want your house to be?\" ,\n",
    "            \"What are 3 most important things for you in choosing this property?\", \n",
    "            \"Which amenities would you like?\", \n",
    "            \"Which transportation options are important to you?\",\n",
    "            \"How urban do you want your neighborhood to be?\",   \n",
    "        ]\n",
    "personal_answers = [\n",
    "    \"A comfortable three-bedroom house with a spacious kitchen and a cozy living room.\",\n",
    "    \"A quiet neighborhood, good local schools, and convenient shopping options.\",\n",
    "    \"A backyard for gardening, a two-car garage, and a modern, energy-efficient heating system.\",\n",
    "    \"Easy access to a reliable bus line, proximity to a major highway, and bike-friendly roads.\",\n",
    "    \"A balance between suburban tranquility and access to urban amenities like restaurants and theaters.\"\n",
    "]\n",
    "history = get_history(personal_questions, personal_answers)\n",
    "\n",
    "query = \"\"\"\n",
    "    Choose one home listing recommended for the user out of the given documents. \n",
    "    Try to convince the buyer, why this home would be suitable for them, include all of the previous answers in your explanation.\n",
    "    Do not change any factual information of the properties.\n",
    "    \"\"\"\n",
    "augment_search(query, db, llm, history)  "
   ]
  },
  {
   "cell_type": "code",
   "execution_count": null,
   "metadata": {},
   "outputs": [],
   "source": []
  }
 ],
 "metadata": {
  "kernelspec": {
   "display_name": "Python 3 (ipykernel)",
   "language": "python",
   "name": "python3"
  },
  "language_info": {
   "codemirror_mode": {
    "name": "ipython",
    "version": 3
   },
   "file_extension": ".py",
   "mimetype": "text/x-python",
   "name": "python",
   "nbconvert_exporter": "python",
   "pygments_lexer": "ipython3",
   "version": "3.10.12"
  }
 },
 "nbformat": 4,
 "nbformat_minor": 2
}
